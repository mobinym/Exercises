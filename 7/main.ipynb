{
 "cells": [
  {
   "cell_type": "markdown",
   "id": "3bb99eea-6dd3-47f2-ab03-83c4dea52485",
   "metadata": {},
   "source": [
    "# import pandas"
   ]
  },
  {
   "cell_type": "code",
   "execution_count": null,
   "id": "c3a4243b-2a9f-4367-83aa-9b8b0011c891",
   "metadata": {},
   "outputs": [],
   "source": [
    "import pandas as pd "
   ]
  },
  {
   "cell_type": "markdown",
   "id": "b576d061-0462-4280-b5d5-dfc6d60c58cd",
   "metadata": {},
   "source": [
    "# Read files\n"
   ]
  },
  {
   "cell_type": "code",
   "execution_count": null,
   "id": "c4e86a98-9ee0-42ec-945b-982525fbea81",
   "metadata": {},
   "outputs": [],
   "source": [
    "customer_data = pd.read_csv('customerinfo.csv')\n",
    "customer_data.shape"
   ]
  },
  {
   "cell_type": "code",
   "execution_count": null,
   "id": "151eb433-42e7-416b-89c0-720143fe8cff",
   "metadata": {},
   "outputs": [],
   "source": [
    "Transaction_data = pd.read_csv('transaction.csv')\n",
    "Transaction_data "
   ]
  },
  {
   "cell_type": "markdown",
   "id": "1911ce53-810f-4cf4-b8df-0da0e0d9d58c",
   "metadata": {},
   "source": [
    "# Find Sort & Show Duplicates\n"
   ]
  },
  {
   "cell_type": "code",
   "execution_count": 68,
   "id": "0904f86f-b1f1-4899-84b4-32215e8db45b",
   "metadata": {},
   "outputs": [
    {
     "data": {
      "text/html": [
       "<div>\n",
       "<style scoped>\n",
       "    .dataframe tbody tr th:only-of-type {\n",
       "        vertical-align: middle;\n",
       "    }\n",
       "\n",
       "    .dataframe tbody tr th {\n",
       "        vertical-align: top;\n",
       "    }\n",
       "\n",
       "    .dataframe thead th {\n",
       "        text-align: right;\n",
       "    }\n",
       "</style>\n",
       "<table border=\"1\" class=\"dataframe\">\n",
       "  <thead>\n",
       "    <tr style=\"text-align: right;\">\n",
       "      <th></th>\n",
       "      <th>customer_id</th>\n",
       "      <th>first_name</th>\n",
       "      <th>last_name</th>\n",
       "      <th>gender</th>\n",
       "      <th>email</th>\n",
       "      <th>phone_number</th>\n",
       "      <th>address</th>\n",
       "      <th>city</th>\n",
       "      <th>country</th>\n",
       "    </tr>\n",
       "  </thead>\n",
       "  <tbody>\n",
       "  </tbody>\n",
       "</table>\n",
       "</div>"
      ],
      "text/plain": [
       "Empty DataFrame\n",
       "Columns: [customer_id, first_name, last_name, gender, email, phone_number, address, city, country]\n",
       "Index: []"
      ]
     },
     "execution_count": 68,
     "metadata": {},
     "output_type": "execute_result"
    }
   ],
   "source": [
    "c_duplicated=customer_data.duplicated(subset=['first_name', 'last_name', 'gender', 'email',\n",
    "       'phone_number', 'address', 'city', 'country'],keep=False)\n",
    "\n",
    "show_duplicate_c = customer_data[c_duplicated]\n",
    "show_duplicate_c\n",
    "\n",
    "sort = show_duplicate_c.sort_values(by=['last_name','customer_id'])\n",
    "sort"
   ]
  },
  {
   "cell_type": "markdown",
   "id": "67e50c9b-c433-4144-9bdc-7ab7c58ebe53",
   "metadata": {},
   "source": [
    "# Drop Duplicates"
   ]
  },
  {
   "cell_type": "code",
   "execution_count": null,
   "id": "d6853c8a-4f5a-4dce-a08a-95ebe450eafc",
   "metadata": {},
   "outputs": [],
   "source": [
    "customer_data.drop_duplicates(subset=['first_name', 'last_name', 'gender', 'email',\n",
    "       'phone_number', 'address', 'city', 'country'],keep='first',inplace=True)\n",
    "customer_data.shape"
   ]
  },
  {
   "cell_type": "markdown",
   "id": "d0851fab-2067-468d-b47c-90a389a84abe",
   "metadata": {},
   "source": [
    "# Tranaction Null Count"
   ]
  },
  {
   "cell_type": "code",
   "execution_count": null,
   "id": "3b0df071-89be-449a-a9bb-5399b28f2996",
   "metadata": {},
   "outputs": [],
   "source": [
    "Transaction_data.isnull().sum()"
   ]
  },
  {
   "cell_type": "markdown",
   "id": "d158b800-0d18-4361-88cf-75d83d3ea45b",
   "metadata": {},
   "source": [
    "# Tansaction Fillna"
   ]
  },
  {
   "cell_type": "code",
   "execution_count": null,
   "id": "8b3614e7-ee9a-4dca-a266-00981c3bd8a3",
   "metadata": {},
   "outputs": [],
   "source": [
    "Transaction_data['unit_price'] = pd.to_numeric(Transaction_data['unit_price'], errors='coerce')\n",
    "Transaction_data['total_amount'] = pd.to_numeric(Transaction_data['total_amount'], errors='coerce')\n",
    "Transaction_data['date'] = pd.to_datetime(Transaction_data['date'], errors='coerce')\n",
    "Transaction_data.fillna(value={\n",
    "    'unit_price':Transaction_data['unit_price'].mean(),\n",
    "    'total_amount':Transaction_data['total_amount'].mean(),\n",
    "    'date':Trasaction_data['date'].mode()[0]\n",
    "},inplace=True)\n",
    "Transaction_data.shape"
   ]
  },
  {
   "cell_type": "code",
   "execution_count": null,
   "id": "4f1a4e2b-67b3-48f1-a0f1-dc3ea2affa43",
   "metadata": {},
   "outputs": [],
   "source": [
    "Transaction_data"
   ]
  },
  {
   "cell_type": "markdown",
   "id": "f60c218e-5c07-4d18-985f-bb779122090c",
   "metadata": {},
   "source": [
    "# merge data"
   ]
  },
  {
   "cell_type": "code",
   "execution_count": null,
   "id": "17a2a9c0-cbe4-4dec-940b-32aedd3ec638",
   "metadata": {},
   "outputs": [],
   "source": [
    "merge = pd.merge(customer_data,Transaction_data,on='customer_id')\n",
    "merge\n"
   ]
  },
  {
   "cell_type": "markdown",
   "id": "369b5716-cb76-4a7c-a89e-0a34133b22a0",
   "metadata": {},
   "source": [
    "# Save Data to Answer.csv"
   ]
  },
  {
   "cell_type": "code",
   "execution_count": null,
   "id": "9bcd5e9d-4f6e-489a-80a6-0d9abbb969f3",
   "metadata": {},
   "outputs": [],
   "source": [
    "save = merge.to_csv('Answer.csv',index=False)"
   ]
  },
  {
   "cell_type": "markdown",
   "id": "ab477cab-b020-45aa-abb0-8dea7ca11d13",
   "metadata": {},
   "source": [
    "# Again check Answer.csv"
   ]
  },
  {
   "cell_type": "code",
   "execution_count": null,
   "id": "aeb93b22-6af3-4006-8560-59e15b376abc",
   "metadata": {},
   "outputs": [],
   "source": [
    "check_Again = pd.read_csv('Answer.csv')\n",
    "check_Again.head()"
   ]
  }
 ],
 "metadata": {
  "kernelspec": {
   "display_name": "Python 3 (ipykernel)",
   "language": "python",
   "name": "python3"
  },
  "language_info": {
   "codemirror_mode": {
    "name": "ipython",
    "version": 3
   },
   "file_extension": ".py",
   "mimetype": "text/x-python",
   "name": "python",
   "nbconvert_exporter": "python",
   "pygments_lexer": "ipython3",
   "version": "3.12.0"
  }
 },
 "nbformat": 4,
 "nbformat_minor": 5
}
