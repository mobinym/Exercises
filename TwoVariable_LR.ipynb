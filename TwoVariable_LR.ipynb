{
  "nbformat": 4,
  "nbformat_minor": 0,
  "metadata": {
    "colab": {
      "provenance": [],
      "gpuType": "T4",
      "authorship_tag": "ABX9TyNKgQYxkuHzkWKQhSyGjWZg",
      "include_colab_link": true
    },
    "kernelspec": {
      "name": "python3",
      "display_name": "Python 3"
    },
    "language_info": {
      "name": "python"
    },
    "accelerator": "GPU"
  },
  "cells": [
    {
      "cell_type": "markdown",
      "metadata": {
        "id": "view-in-github",
        "colab_type": "text"
      },
      "source": [
        "<a href=\"https://colab.research.google.com/github/mobinym/Exercises/blob/main/TwoVariable_LR.ipynb\" target=\"_parent\"><img src=\"https://colab.research.google.com/assets/colab-badge.svg\" alt=\"Open In Colab\"/></a>"
      ]
    },
    {
      "cell_type": "code",
      "execution_count": null,
      "metadata": {
        "id": "AgU5gsKCsXTo"
      },
      "outputs": [],
      "source": [
        "import numpy as np\n",
        "import pandas as pd\n",
        "from sklearn.linear_model import LinearRegression\n",
        "from sklearn.model_selection import train_test_split\n",
        "from sklearn.metrics import mean_squared_error , r2_score\n",
        "import matplotlib.pyplot as plt\n"
      ]
    },
    {
      "cell_type": "code",
      "source": [
        "np.random.seed(42)\n",
        "x1 = 2*np.random.rand(100,1)\n",
        "x2 = 3*np.random.rand(100,1)\n",
        "y  = 4 + 3 * x1 + 5 * x2 + np.random.randn(100,1)\n",
        "\n",
        "\n",
        "X = np.c_[(x1,x2)]\n",
        "\n",
        "X_train,X_test,y_train,y_test = train_test_split(X , y,test_size=0.2,random_state=42)\n",
        "\n",
        "model = LinearRegression()\n",
        "model.fit(X_train, y_train)\n",
        "\n",
        "print(model.intercept_)\n",
        "print(model.coef_)\n"
      ],
      "metadata": {
        "id": "I6SUDqQwtKJn"
      },
      "execution_count": null,
      "outputs": []
    },
    {
      "cell_type": "code",
      "source": [
        "y_pred = model.predict(X_test)\n",
        "\n",
        "mse = mean_squared_error(y_test,y_pred)\n",
        "r2 = r2_score(y_test,y_pred)"
      ],
      "metadata": {
        "id": "lpCe5Wv1u-G9"
      },
      "execution_count": null,
      "outputs": []
    }
  ]
}