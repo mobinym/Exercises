{
  "nbformat": 4,
  "nbformat_minor": 0,
  "metadata": {
    "colab": {
      "provenance": [],
      "gpuType": "T4",
      "authorship_tag": "ABX9TyN5Qf3iwJnRO7U4IbT5jf8r",
      "include_colab_link": true
    },
    "kernelspec": {
      "name": "python3",
      "display_name": "Python 3"
    },
    "language_info": {
      "name": "python"
    },
    "accelerator": "GPU"
  },
  "cells": [
    {
      "cell_type": "markdown",
      "metadata": {
        "id": "view-in-github",
        "colab_type": "text"
      },
      "source": [
        "<a href=\"https://colab.research.google.com/github/mobinym/Exercises/blob/main/SearchHyperparameter_Tuning.ipynb\" target=\"_parent\"><img src=\"https://colab.research.google.com/assets/colab-badge.svg\" alt=\"Open In Colab\"/></a>"
      ]
    },
    {
      "cell_type": "code",
      "execution_count": null,
      "metadata": {
        "colab": {
          "base_uri": "https://localhost:8080/"
        },
        "id": "Jyf0Krp9k0tz",
        "outputId": "e7843106-d251-416d-ea9b-038f7a584b09"
      },
      "outputs": [
        {
          "output_type": "stream",
          "name": "stdout",
          "text": [
            "Collecting scikit-optimize\n",
            "  Downloading scikit_optimize-0.10.2-py2.py3-none-any.whl (107 kB)\n",
            "\u001b[?25l     \u001b[90m━━━━━━━━━━━━━━━━━━━━━━━━━━━━━━━━━━━━━━━━\u001b[0m \u001b[32m0.0/107.8 kB\u001b[0m \u001b[31m?\u001b[0m eta \u001b[36m-:--:--\u001b[0m\r\u001b[2K     \u001b[91m━━━━━━━━━━━━━━━━━━━━━━━━━━━━━━━━━━━━━\u001b[0m\u001b[91m╸\u001b[0m\u001b[90m━━\u001b[0m \u001b[32m102.4/107.8 kB\u001b[0m \u001b[31m3.2 MB/s\u001b[0m eta \u001b[36m0:00:01\u001b[0m\r\u001b[2K     \u001b[90m━━━━━━━━━━━━━━━━━━━━━━━━━━━━━━━━━━━━━━━━\u001b[0m \u001b[32m107.8/107.8 kB\u001b[0m \u001b[31m2.5 MB/s\u001b[0m eta \u001b[36m0:00:00\u001b[0m\n",
            "\u001b[?25hRequirement already satisfied: joblib>=0.11 in /usr/local/lib/python3.10/dist-packages (from scikit-optimize) (1.4.2)\n",
            "Collecting pyaml>=16.9 (from scikit-optimize)\n",
            "  Downloading pyaml-24.4.0-py3-none-any.whl (24 kB)\n",
            "Requirement already satisfied: numpy>=1.20.3 in /usr/local/lib/python3.10/dist-packages (from scikit-optimize) (1.25.2)\n",
            "Requirement already satisfied: scipy>=1.1.0 in /usr/local/lib/python3.10/dist-packages (from scikit-optimize) (1.11.4)\n",
            "Requirement already satisfied: scikit-learn>=1.0.0 in /usr/local/lib/python3.10/dist-packages (from scikit-optimize) (1.2.2)\n",
            "Requirement already satisfied: packaging>=21.3 in /usr/local/lib/python3.10/dist-packages (from scikit-optimize) (24.1)\n",
            "Requirement already satisfied: PyYAML in /usr/local/lib/python3.10/dist-packages (from pyaml>=16.9->scikit-optimize) (6.0.1)\n",
            "Requirement already satisfied: threadpoolctl>=2.0.0 in /usr/local/lib/python3.10/dist-packages (from scikit-learn>=1.0.0->scikit-optimize) (3.5.0)\n",
            "Installing collected packages: pyaml, scikit-optimize\n",
            "Successfully installed pyaml-24.4.0 scikit-optimize-0.10.2\n"
          ]
        }
      ],
      "source": [
        "!pip install scikit-optimize"
      ]
    },
    {
      "cell_type": "code",
      "source": [
        "from sklearn.linear_model import LinearRegression,Ridge,Lasso,ElasticNet\n",
        "from sklearn.model_selection import train_test_split\n",
        "from sklearn.metrics import mean_squared_error , r2_score\n",
        "from sklearn.datasets import load_iris\n",
        "from sklearn.model_selection import GridSearchCV\n",
        "from sklearn.model_selection import RandomizedSearchCV\n",
        "from sklearn.model_selection import cross_val_score\n",
        "from skopt import BayesSearchCV\n",
        "import numpy as np"
      ],
      "metadata": {
        "id": "wKcmice4lla-"
      },
      "execution_count": null,
      "outputs": []
    },
    {
      "cell_type": "code",
      "source": [
        "data = load_iris()\n",
        "X , y = data.data , data.target\n",
        "X_train,X_test,y_train,y_test = train_test_split(X,y,test_size=0.2,random_state=42)"
      ],
      "metadata": {
        "id": "o8ysHS_umnXd"
      },
      "execution_count": null,
      "outputs": []
    },
    {
      "cell_type": "markdown",
      "source": [
        "# **Grid search**"
      ],
      "metadata": {
        "id": "xHEOIVL9nR6v"
      }
    },
    {
      "cell_type": "code",
      "source": [
        "model = ElasticNet()\n",
        "params = {\n",
        "    'alpha': [round(num,4) for num in np.arange(-0.0001,1,0.1)],\n",
        "    'l1_ratio' : [round(num,1) for num in np.arange(0.1,1,0.1)]\n",
        "}\n",
        "\n",
        "grid_search = GridSearchCV(estimator=model,param_grid=params,scoring='r2',cv=5)\n",
        "\n",
        "grid_search.fit(X_train,y_train)\n",
        "\n",
        "print(\"Grid Search : \\n===============================\")\n",
        "print(f\"Best Parameters: {grid_search.best_params_}\")\n",
        "print(f\"Best R2 Score: {grid_search.best_score_}\")"
      ],
      "metadata": {
        "colab": {
          "base_uri": "https://localhost:8080/"
        },
        "id": "o_Oj4G8GngUf",
        "outputId": "60dabfef-2f74-4fd3-d2a2-76c9d61ea8dc"
      },
      "execution_count": null,
      "outputs": [
        {
          "output_type": "stream",
          "name": "stdout",
          "text": [
            "Grid Search : \n",
            "===============================\n",
            "Best Parameters: {'alpha': 0.0999, 'l1_ratio': 0.1}\n",
            "Best R2 Score: 0.9037605996020632\n"
          ]
        }
      ]
    },
    {
      "cell_type": "markdown",
      "source": [
        "# ***Random search***"
      ],
      "metadata": {
        "id": "JIoxZvG_peNx"
      }
    },
    {
      "cell_type": "code",
      "source": [
        "model = ElasticNet()\n",
        "params = {\n",
        "    'alpha': [round(num,4) for num in np.arange(-0.0001,1,0.1)],\n",
        "    'l1_ratio' : [round(num,1) for num in np.arange(0.1,1,0.1)]\n",
        "}\n",
        "random_search = RandomizedSearchCV(estimator=model,\n",
        "                                   param_distributions=params,\n",
        "                                   scoring='r2',\n",
        "                                   cv = 5,\n",
        "                                   n_iter=3,\n",
        "                                   verbose=3)\n",
        "random_search.fit(X_train, y_train)\n",
        "\n",
        "print(\"RandomizedSearchCV : \\n===============================\")\n",
        "print(\"Best Parameters:\", random_search.best_params_)\n",
        "print(\"Best R2 Score:\", random_search.best_score_)"
      ],
      "metadata": {
        "colab": {
          "base_uri": "https://localhost:8080/"
        },
        "id": "ihdPi_J9pamq",
        "outputId": "31189252-d5f4-4fc7-81df-b88a250a83d4"
      },
      "execution_count": null,
      "outputs": [
        {
          "output_type": "stream",
          "name": "stdout",
          "text": [
            "Fitting 5 folds for each of 3 candidates, totalling 15 fits\n",
            "[CV 1/5] END ..........alpha=0.49, l1_ratio=0.8;, score=0.827 total time=   0.0s\n",
            "[CV 2/5] END ..........alpha=0.49, l1_ratio=0.8;, score=0.800 total time=   0.0s\n",
            "[CV 3/5] END ..........alpha=0.49, l1_ratio=0.8;, score=0.818 total time=   0.0s\n",
            "[CV 4/5] END ..........alpha=0.49, l1_ratio=0.8;, score=0.784 total time=   0.0s\n",
            "[CV 5/5] END ..........alpha=0.49, l1_ratio=0.8;, score=0.743 total time=   0.0s\n",
            "[CV 1/5] END ..........alpha=0.79, l1_ratio=0.6;, score=0.756 total time=   0.0s\n",
            "[CV 2/5] END ..........alpha=0.79, l1_ratio=0.6;, score=0.732 total time=   0.0s\n",
            "[CV 3/5] END ..........alpha=0.79, l1_ratio=0.6;, score=0.748 total time=   0.0s\n",
            "[CV 4/5] END ..........alpha=0.79, l1_ratio=0.6;, score=0.728 total time=   0.0s\n",
            "[CV 5/5] END ..........alpha=0.79, l1_ratio=0.6;, score=0.656 total time=   0.0s\n",
            "[CV 1/5] END ..........alpha=0.69, l1_ratio=0.9;, score=0.703 total time=   0.0s\n",
            "[CV 2/5] END ..........alpha=0.69, l1_ratio=0.9;, score=0.683 total time=   0.0s\n",
            "[CV 3/5] END ..........alpha=0.69, l1_ratio=0.9;, score=0.695 total time=   0.0s\n",
            "[CV 4/5] END ..........alpha=0.69, l1_ratio=0.9;, score=0.687 total time=   0.0s\n",
            "[CV 5/5] END ..........alpha=0.69, l1_ratio=0.9;, score=0.591 total time=   0.0s\n",
            "RandomizedSearchCV : \n",
            "===============================\n",
            "Best Parameters: {'l1_ratio': 0.8, 'alpha': 0.49}\n",
            "Best R2 Score: 0.7944815223235924\n"
          ]
        }
      ]
    },
    {
      "cell_type": "markdown",
      "source": [
        "# **Bayesian Optimization**"
      ],
      "metadata": {
        "id": "JlXfU51mqcwV"
      }
    },
    {
      "cell_type": "code",
      "source": [
        "model = ElasticNet()\n",
        "params = {'alpha': [1e-4,1e-3,1e-2,0.1,0.2,0.3,0.4,0.5,0.6,0.7,0.8,0.9,1],\n",
        "              'l1_ratio': [0.1,0.2,0.3,0.4,0.5,0.6,0.7,0.8]}\n",
        "opt = BayesSearchCV(\n",
        "    estimator=model,\n",
        "    search_spaces = params,\n",
        "    n_iter = 20,\n",
        "    cv = 5,\n",
        "    verbose = 3,\n",
        "    scoring = 'r2'\n",
        ")\n",
        "opt.fit(X_train, y_train)\n",
        "\n",
        "print(\"Bayesian Optimization : \\n===============================\")\n",
        "print(\"Best parameters:\", opt.best_params_)\n",
        "print(\"Best R2 Score:\", opt.best_score_)\n"
      ],
      "metadata": {
        "colab": {
          "base_uri": "https://localhost:8080/"
        },
        "id": "8FuYgk36qhxY",
        "outputId": "c14bfeae-80d9-4d51-9499-f83e1d3932f1"
      },
      "execution_count": null,
      "outputs": [
        {
          "output_type": "stream",
          "name": "stdout",
          "text": [
            "Fitting 5 folds for each of 1 candidates, totalling 5 fits\n",
            "[CV 1/5] END ...........alpha=0.5, l1_ratio=0.6;, score=0.850 total time=   0.0s\n",
            "[CV 2/5] END ...........alpha=0.5, l1_ratio=0.6;, score=0.824 total time=   0.0s\n",
            "[CV 3/5] END ...........alpha=0.5, l1_ratio=0.6;, score=0.842 total time=   0.0s\n",
            "[CV 4/5] END ...........alpha=0.5, l1_ratio=0.6;, score=0.803 total time=   0.0s\n",
            "[CV 5/5] END ...........alpha=0.5, l1_ratio=0.6;, score=0.775 total time=   0.0s\n",
            "Fitting 5 folds for each of 1 candidates, totalling 5 fits\n",
            "[CV 1/5] END ...........alpha=0.6, l1_ratio=0.4;, score=0.853 total time=   0.0s\n",
            "[CV 2/5] END ...........alpha=0.6, l1_ratio=0.4;, score=0.827 total time=   0.0s\n",
            "[CV 3/5] END ...........alpha=0.6, l1_ratio=0.4;, score=0.845 total time=   0.0s\n",
            "[CV 4/5] END ...........alpha=0.6, l1_ratio=0.4;, score=0.805 total time=   0.0s\n",
            "[CV 5/5] END ...........alpha=0.6, l1_ratio=0.4;, score=0.780 total time=   0.0s\n",
            "Fitting 5 folds for each of 1 candidates, totalling 5 fits\n",
            "[CV 1/5] END ........alpha=0.0001, l1_ratio=0.4;, score=0.920 total time=   0.0s\n",
            "[CV 2/5] END ........alpha=0.0001, l1_ratio=0.4;, score=0.941 total time=   0.0s\n",
            "[CV 3/5] END ........alpha=0.0001, l1_ratio=0.4;, score=0.896 total time=   0.0s\n",
            "[CV 4/5] END ........alpha=0.0001, l1_ratio=0.4;, score=0.891 total time=   0.0s\n",
            "[CV 5/5] END ........alpha=0.0001, l1_ratio=0.4;, score=0.911 total time=   0.0s\n",
            "Fitting 5 folds for each of 1 candidates, totalling 5 fits\n",
            "[CV 1/5] END ..........alpha=0.01, l1_ratio=0.4;, score=0.920 total time=   0.0s\n",
            "[CV 2/5] END ..........alpha=0.01, l1_ratio=0.4;, score=0.937 total time=   0.0s\n",
            "[CV 3/5] END ..........alpha=0.01, l1_ratio=0.4;, score=0.901 total time=   0.0s\n",
            "[CV 4/5] END ..........alpha=0.01, l1_ratio=0.4;, score=0.887 total time=   0.0s\n",
            "[CV 5/5] END ..........alpha=0.01, l1_ratio=0.4;, score=0.912 total time=   0.0s\n",
            "Fitting 5 folds for each of 1 candidates, totalling 5 fits\n",
            "[CV 1/5] END ...........alpha=0.5, l1_ratio=0.4;, score=0.871 total time=   0.0s\n",
            "[CV 2/5] END ...........alpha=0.5, l1_ratio=0.4;, score=0.846 total time=   0.0s\n",
            "[CV 3/5] END ...........alpha=0.5, l1_ratio=0.4;, score=0.863 total time=   0.0s\n",
            "[CV 4/5] END ...........alpha=0.5, l1_ratio=0.4;, score=0.820 total time=   0.0s\n",
            "[CV 5/5] END ...........alpha=0.5, l1_ratio=0.4;, score=0.806 total time=   0.0s\n",
            "Fitting 5 folds for each of 1 candidates, totalling 5 fits\n",
            "[CV 1/5] END ...........alpha=0.8, l1_ratio=0.4;, score=0.809 total time=   0.0s\n",
            "[CV 2/5] END ...........alpha=0.8, l1_ratio=0.4;, score=0.783 total time=   0.0s\n",
            "[CV 3/5] END ...........alpha=0.8, l1_ratio=0.4;, score=0.801 total time=   0.0s\n",
            "[CV 4/5] END ...........alpha=0.8, l1_ratio=0.4;, score=0.770 total time=   0.0s\n",
            "[CV 5/5] END ...........alpha=0.8, l1_ratio=0.4;, score=0.722 total time=   0.0s\n",
            "Fitting 5 folds for each of 1 candidates, totalling 5 fits\n",
            "[CV 1/5] END ...........alpha=0.5, l1_ratio=0.3;, score=0.879 total time=   0.0s\n",
            "[CV 2/5] END ...........alpha=0.5, l1_ratio=0.3;, score=0.855 total time=   0.0s\n",
            "[CV 3/5] END ...........alpha=0.5, l1_ratio=0.3;, score=0.872 total time=   0.0s\n",
            "[CV 4/5] END ...........alpha=0.5, l1_ratio=0.3;, score=0.826 total time=   0.0s\n",
            "[CV 5/5] END ...........alpha=0.5, l1_ratio=0.3;, score=0.819 total time=   0.0s\n",
            "Fitting 5 folds for each of 1 candidates, totalling 5 fits\n",
            "[CV 1/5] END ...........alpha=0.6, l1_ratio=0.1;, score=0.890 total time=   0.0s\n",
            "[CV 2/5] END ...........alpha=0.6, l1_ratio=0.1;, score=0.876 total time=   0.0s\n",
            "[CV 3/5] END ...........alpha=0.6, l1_ratio=0.1;, score=0.882 total time=   0.0s\n",
            "[CV 4/5] END ...........alpha=0.6, l1_ratio=0.1;, score=0.850 total time=   0.0s\n",
            "[CV 5/5] END ...........alpha=0.6, l1_ratio=0.1;, score=0.839 total time=   0.0s\n",
            "Fitting 5 folds for each of 1 candidates, totalling 5 fits\n",
            "[CV 1/5] END ...........alpha=0.5, l1_ratio=0.3;, score=0.879 total time=   0.0s\n",
            "[CV 2/5] END ...........alpha=0.5, l1_ratio=0.3;, score=0.855 total time=   0.0s\n",
            "[CV 3/5] END ...........alpha=0.5, l1_ratio=0.3;, score=0.872 total time=   0.0s\n",
            "[CV 4/5] END ...........alpha=0.5, l1_ratio=0.3;, score=0.826 total time=   0.0s\n",
            "[CV 5/5] END ...........alpha=0.5, l1_ratio=0.3;, score=0.819 total time=   0.0s\n",
            "Fitting 5 folds for each of 1 candidates, totalling 5 fits\n",
            "[CV 1/5] END ...........alpha=0.4, l1_ratio=0.2;, score=0.898 total time=   0.0s\n",
            "[CV 2/5] END ...........alpha=0.4, l1_ratio=0.2;, score=0.882 total time=   0.0s\n",
            "[CV 3/5] END ...........alpha=0.4, l1_ratio=0.2;, score=0.891 total time=   0.0s\n",
            "[CV 4/5] END ...........alpha=0.4, l1_ratio=0.2;, score=0.850 total time=   0.0s\n",
            "[CV 5/5] END ...........alpha=0.4, l1_ratio=0.2;, score=0.853 total time=   0.0s\n",
            "Fitting 5 folds for each of 1 candidates, totalling 5 fits\n",
            "[CV 1/5] END ...........alpha=0.9, l1_ratio=0.5;, score=0.751 total time=   0.0s\n",
            "[CV 2/5] END ...........alpha=0.9, l1_ratio=0.5;, score=0.727 total time=   0.0s\n",
            "[CV 3/5] END ...........alpha=0.9, l1_ratio=0.5;, score=0.743 total time=   0.0s\n",
            "[CV 4/5] END ...........alpha=0.9, l1_ratio=0.5;, score=0.723 total time=   0.0s\n",
            "[CV 5/5] END ...........alpha=0.9, l1_ratio=0.5;, score=0.650 total time=   0.0s\n",
            "Fitting 5 folds for each of 1 candidates, totalling 5 fits\n",
            "[CV 1/5] END .........alpha=0.001, l1_ratio=0.4;, score=0.920 total time=   0.0s\n",
            "[CV 2/5] END .........alpha=0.001, l1_ratio=0.4;, score=0.941 total time=   0.0s\n",
            "[CV 3/5] END .........alpha=0.001, l1_ratio=0.4;, score=0.897 total time=   0.0s\n",
            "[CV 4/5] END .........alpha=0.001, l1_ratio=0.4;, score=0.890 total time=   0.0s\n",
            "[CV 5/5] END .........alpha=0.001, l1_ratio=0.4;, score=0.912 total time=   0.0s\n",
            "Fitting 5 folds for each of 1 candidates, totalling 5 fits\n",
            "[CV 1/5] END ...........alpha=0.2, l1_ratio=0.6;, score=0.902 total time=   0.0s\n",
            "[CV 2/5] END ...........alpha=0.2, l1_ratio=0.6;, score=0.885 total time=   0.0s\n",
            "[CV 3/5] END ...........alpha=0.2, l1_ratio=0.6;, score=0.896 total time=   0.0s\n",
            "[CV 4/5] END ...........alpha=0.2, l1_ratio=0.6;, score=0.846 total time=   0.0s\n",
            "[CV 5/5] END ...........alpha=0.2, l1_ratio=0.6;, score=0.861 total time=   0.0s\n",
            "Fitting 5 folds for each of 1 candidates, totalling 5 fits\n",
            "[CV 1/5] END .........alpha=0.001, l1_ratio=0.7;, score=0.920 total time=   0.0s\n",
            "[CV 2/5] END .........alpha=0.001, l1_ratio=0.7;, score=0.941 total time=   0.0s\n",
            "[CV 3/5] END .........alpha=0.001, l1_ratio=0.7;, score=0.897 total time=   0.0s\n",
            "[CV 4/5] END .........alpha=0.001, l1_ratio=0.7;, score=0.890 total time=   0.0s\n",
            "[CV 5/5] END .........alpha=0.001, l1_ratio=0.7;, score=0.912 total time=   0.0s\n",
            "Fitting 5 folds for each of 1 candidates, totalling 5 fits\n",
            "[CV 1/5] END ...........alpha=0.2, l1_ratio=0.3;, score=0.907 total time=   0.0s\n",
            "[CV 2/5] END ...........alpha=0.2, l1_ratio=0.3;, score=0.895 total time=   0.0s\n",
            "[CV 3/5] END ...........alpha=0.2, l1_ratio=0.3;, score=0.901 total time=   0.0s\n",
            "[CV 4/5] END ...........alpha=0.2, l1_ratio=0.3;, score=0.855 total time=   0.0s\n",
            "[CV 5/5] END ...........alpha=0.2, l1_ratio=0.3;, score=0.875 total time=   0.0s\n",
            "Fitting 5 folds for each of 1 candidates, totalling 5 fits\n",
            "[CV 1/5] END .............alpha=1, l1_ratio=0.3;, score=0.791 total time=   0.0s\n",
            "[CV 2/5] END .............alpha=1, l1_ratio=0.3;, score=0.765 total time=   0.0s\n",
            "[CV 3/5] END .............alpha=1, l1_ratio=0.3;, score=0.783 total time=   0.0s\n",
            "[CV 4/5] END .............alpha=1, l1_ratio=0.3;, score=0.754 total time=   0.0s\n",
            "[CV 5/5] END .............alpha=1, l1_ratio=0.3;, score=0.700 total time=   0.0s\n",
            "Fitting 5 folds for each of 1 candidates, totalling 5 fits\n",
            "[CV 1/5] END .........alpha=0.001, l1_ratio=0.8;, score=0.920 total time=   0.0s\n",
            "[CV 2/5] END .........alpha=0.001, l1_ratio=0.8;, score=0.941 total time=   0.0s\n",
            "[CV 3/5] END .........alpha=0.001, l1_ratio=0.8;, score=0.897 total time=   0.0s\n",
            "[CV 4/5] END .........alpha=0.001, l1_ratio=0.8;, score=0.890 total time=   0.0s\n",
            "[CV 5/5] END .........alpha=0.001, l1_ratio=0.8;, score=0.911 total time=   0.0s\n",
            "Fitting 5 folds for each of 1 candidates, totalling 5 fits\n",
            "[CV 1/5] END ...........alpha=0.3, l1_ratio=0.4;, score=0.897 total time=   0.0s\n",
            "[CV 2/5] END ...........alpha=0.3, l1_ratio=0.4;, score=0.877 total time=   0.0s\n",
            "[CV 3/5] END ...........alpha=0.3, l1_ratio=0.4;, score=0.890 total time=   0.0s\n",
            "[CV 4/5] END ...........alpha=0.3, l1_ratio=0.4;, score=0.842 total time=   0.0s\n",
            "[CV 5/5] END ...........alpha=0.3, l1_ratio=0.4;, score=0.850 total time=   0.0s\n",
            "Fitting 5 folds for each of 1 candidates, totalling 5 fits\n",
            "[CV 1/5] END .........alpha=0.001, l1_ratio=0.2;, score=0.920 total time=   0.0s\n",
            "[CV 2/5] END .........alpha=0.001, l1_ratio=0.2;, score=0.941 total time=   0.0s\n",
            "[CV 3/5] END .........alpha=0.001, l1_ratio=0.2;, score=0.897 total time=   0.0s\n",
            "[CV 4/5] END .........alpha=0.001, l1_ratio=0.2;, score=0.890 total time=   0.0s\n",
            "[CV 5/5] END .........alpha=0.001, l1_ratio=0.2;, score=0.912 total time=   0.0s\n",
            "Fitting 5 folds for each of 1 candidates, totalling 5 fits\n",
            "[CV 1/5] END ...........alpha=0.1, l1_ratio=0.3;, score=0.911 total time=   0.0s\n",
            "[CV 2/5] END ...........alpha=0.1, l1_ratio=0.3;, score=0.910 total time=   0.0s\n",
            "[CV 3/5] END ...........alpha=0.1, l1_ratio=0.3;, score=0.905 total time=   0.0s\n",
            "[CV 4/5] END ...........alpha=0.1, l1_ratio=0.3;, score=0.868 total time=   0.0s\n",
            "[CV 5/5] END ...........alpha=0.1, l1_ratio=0.3;, score=0.893 total time=   0.0s\n",
            "Bayesian Optimization : \n",
            "===============================\n",
            "Best parameters: OrderedDict([('alpha', 0.001), ('l1_ratio', 0.2)])\n",
            "Best R2 Score: 0.9119967185621611\n"
          ]
        }
      ]
    },
    {
      "cell_type": "markdown",
      "source": [
        "# **Cross validation**"
      ],
      "metadata": {
        "id": "3fVkyYlJuJMH"
      }
    },
    {
      "cell_type": "code",
      "source": [
        "\n",
        "alphas = [1e-4,1e-3,1e-2,0.1,0.2,0.3,0.4,0.5,0.6,0.7,0.8,0.9,1]\n",
        "l1_ratios = [0.1,0.2,0.3,0.4,0.5,0.6,0.7,0.8]\n",
        "\n",
        "param_dict = [{'alpha':alpha , \"l1_ratio\" : l1_ratio}for alpha in alphas for l1_ratio in l1_ratios]\n",
        "\n",
        "models_elastic = [(ElasticNet(alpha=param['alpha'],l1_ratio=param['l1_ratio']))for param in param_dict]\n",
        "\n",
        "cv_Scores = [cross_val_score(model,X_train,y_train, scoring='r2', cv = 5).mean() for model in models_elastic]\n",
        "\n",
        "best_model_index = np.argmax(cv_Scores)\n",
        "best_model_params = param_dict[best_model_index]\n",
        "print(\"cross_val_score : \\n===============================\")\n",
        "print(\"Best Parameters:\", best_model_params)\n",
        "print(\"Best R2 Score:\", cv_Scores[best_model_index])"
      ],
      "metadata": {
        "colab": {
          "base_uri": "https://localhost:8080/"
        },
        "id": "KNLjbN-suI7X",
        "outputId": "42d72a87-287e-466d-8bd7-f0c6925cff97"
      },
      "execution_count": null,
      "outputs": [
        {
          "output_type": "stream",
          "name": "stdout",
          "text": [
            "cross_val_score : \n",
            "===============================\n",
            "Best Parameters: {'alpha': 0.01, 'l1_ratio': 0.1}\n",
            "Best R2 Score: 0.9127508410382201\n"
          ]
        }
      ]
    }
  ]
}