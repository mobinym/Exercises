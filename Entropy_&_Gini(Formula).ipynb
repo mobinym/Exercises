{
  "nbformat": 4,
  "nbformat_minor": 0,
  "metadata": {
    "colab": {
      "provenance": [],
      "gpuType": "T4",
      "authorship_tag": "ABX9TyPDf9MEuQtkwOdNeahcvq8E",
      "include_colab_link": true
    },
    "kernelspec": {
      "name": "python3",
      "display_name": "Python 3"
    },
    "language_info": {
      "name": "python"
    },
    "accelerator": "GPU"
  },
  "cells": [
    {
      "cell_type": "markdown",
      "metadata": {
        "id": "view-in-github",
        "colab_type": "text"
      },
      "source": [
        "<a href=\"https://colab.research.google.com/github/mobinym/Exercises/blob/main/Entropy_%26_Gini(Formula).ipynb\" target=\"_parent\"><img src=\"https://colab.research.google.com/assets/colab-badge.svg\" alt=\"Open In Colab\"/></a>"
      ]
    },
    {
      "cell_type": "markdown",
      "source": [
        "# **Entropy**"
      ],
      "metadata": {
        "id": "DMUXX9UzYSoe"
      }
    },
    {
      "cell_type": "code",
      "source": [
        "from math import log2"
      ],
      "metadata": {
        "id": "K-uZVBL5YMxe"
      },
      "execution_count": 7,
      "outputs": []
    },
    {
      "cell_type": "code",
      "source": [
        "class1 = 10/100\n",
        "class2 = 90/100\n",
        "\n",
        "entropy = -(class1 * log2(class1) + class2 * log2(class2))\n",
        "print(entropy)"
      ],
      "metadata": {
        "colab": {
          "base_uri": "https://localhost:8080/"
        },
        "id": "ZWhjKDNRY4Y4",
        "outputId": "f92db481-8f49-4239-874f-ca5dfcdd5d11"
      },
      "execution_count": null,
      "outputs": [
        {
          "output_type": "stream",
          "name": "stdout",
          "text": [
            "0.4689955935892812\n"
          ]
        }
      ]
    },
    {
      "cell_type": "code",
      "source": [
        "def entropy(class0,class1):\n",
        "  return -(class0 * log2(class0) + class1 * log2(class1))\n"
      ],
      "metadata": {
        "id": "jkDyi-GYZ0Qv"
      },
      "execution_count": null,
      "outputs": []
    },
    {
      "cell_type": "code",
      "source": [
        "class0 = 13/20\n",
        "class1 = 7/20\n",
        "s_entropy = entropy(class0,class1)\n",
        "print(f'entropy : {s_entropy :.3f}')"
      ],
      "metadata": {
        "colab": {
          "base_uri": "https://localhost:8080/"
        },
        "id": "yP35v7FSayEw",
        "outputId": "df0357af-1b27-45b1-ba37-39fd0b314aed"
      },
      "execution_count": null,
      "outputs": [
        {
          "output_type": "stream",
          "name": "stdout",
          "text": [
            "entropy : 0.934\n"
          ]
        }
      ]
    },
    {
      "cell_type": "code",
      "source": [
        "s1_class0 = 7/8\n",
        "s1_class1 = 1/8\n",
        "s1_entropy = entropy(s1_class0,s1_class1)\n",
        "print(f'entropy : {s1_entropy :.3f}')"
      ],
      "metadata": {
        "colab": {
          "base_uri": "https://localhost:8080/"
        },
        "id": "KQ5trto2bYQh",
        "outputId": "7790b335-0a0b-46d2-9c34-d1dfd1f4260b"
      },
      "execution_count": null,
      "outputs": [
        {
          "output_type": "stream",
          "name": "stdout",
          "text": [
            "entropy : 0.544\n"
          ]
        }
      ]
    },
    {
      "cell_type": "code",
      "source": [
        "s2_class0 = 6/12\n",
        "s2_class1 = 6/12\n",
        "s2_entropy = entropy(s2_class0 , s2_class1)\n",
        "print(f'entropy : {s2_entropy :.3f}')"
      ],
      "metadata": {
        "colab": {
          "base_uri": "https://localhost:8080/"
        },
        "id": "b_2CYL-gbpx-",
        "outputId": "ca147cf5-f915-4742-bdcf-16df4506f557"
      },
      "execution_count": null,
      "outputs": [
        {
          "output_type": "stream",
          "name": "stdout",
          "text": [
            "entropy : 1.000\n"
          ]
        }
      ]
    },
    {
      "cell_type": "code",
      "source": [
        "gain = s_entropy - (8/20 * s1_entropy + 12/20 * s2_entropy)\n",
        "print(f'{gain:.3f}')"
      ],
      "metadata": {
        "colab": {
          "base_uri": "https://localhost:8080/"
        },
        "id": "ypQ6E-Uxb41o",
        "outputId": "00115f9f-7c00-4b24-ea78-ae58115def40"
      },
      "execution_count": null,
      "outputs": [
        {
          "output_type": "stream",
          "name": "stdout",
          "text": [
            "0.117\n"
          ]
        }
      ]
    },
    {
      "cell_type": "markdown",
      "source": [
        "# **GINI**"
      ],
      "metadata": {
        "id": "RF10c0-lUbPb"
      }
    },
    {
      "cell_type": "code",
      "source": [
        "import matplotlib.pyplot as plt\n",
        "import numpy as np"
      ],
      "metadata": {
        "id": "7r1mUZ87UdYc"
      },
      "execution_count": 21,
      "outputs": []
    },
    {
      "cell_type": "code",
      "source": [
        "def gini(p):\n",
        "  return (p)*(1-(p)) + (1-p) * (1 - (1-p))\n",
        "\n",
        "\n",
        "def entropy(p):\n",
        "  return -(p * log2(p) + (1-p) * log2(1-p))"
      ],
      "metadata": {
        "id": "nRxXTPfTUvDE"
      },
      "execution_count": 22,
      "outputs": []
    },
    {
      "cell_type": "code",
      "source": [
        "X = np.arange(0.0 ,1.0,0.01)\n",
        "ent = [entropy(p) if p!= 0 else None for p in X]\n",
        "scaled_ent = [e*0.5 if e else None for e in ent]\n",
        "gini = gini(X)"
      ],
      "metadata": {
        "id": "C0UPFdMFVSTL"
      },
      "execution_count": 23,
      "outputs": []
    },
    {
      "cell_type": "code",
      "source": [
        "fig = plt.figure()\n",
        "ax = plt.subplot(111)\n",
        "\n",
        "for j , lab , ls , c in zip(\n",
        "    [ent,scaled_ent,gini],\n",
        "    ['Entropy','Entropy(Scaled)','Gini'],\n",
        "    ['-','-','--'],\n",
        "    ['yellow','red','green']):\n",
        "  line = ax.plot(X,j,label=lab,linestyle = ls , lw = 1 ,color = c)\n",
        "\n",
        "ax.legend(loc= 'upper left',bbox_to_anchor=(0.01,0.85),ncol=1,fancybox=True,shadow=False)\n",
        "\n",
        "ax.axhline(y=0.5,linewidth = 1 , color = 'k' , linestyle = '--')\n",
        "ax.axhline(y=1.0,linewidth = 1 , color = 'k' , linestyle = '--')\n",
        "\n",
        "plt.ylim([0,1.1])\n",
        "plt.xlabel('p(j=1)')\n",
        "plt.ylabel('impurity index')\n",
        "plt.show()"
      ],
      "metadata": {
        "colab": {
          "base_uri": "https://localhost:8080/",
          "height": 449
        },
        "id": "Tn_emuZgWdcD",
        "outputId": "b2e9538a-2f99-47a0-8fd5-101881ec1919"
      },
      "execution_count": 26,
      "outputs": [
        {
          "output_type": "display_data",
          "data": {
            "text/plain": [
              "<Figure size 640x480 with 1 Axes>"
            ],
            "image/png": "[encoded data removed]"
          },
          "metadata": {}
        }
      ]
    }
  ]
}