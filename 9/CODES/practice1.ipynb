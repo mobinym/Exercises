{
 "cells": [
  {
   "cell_type": "code",
   "execution_count": 1,
   "id": "703c9630-e343-4c15-b097-52a416ede9a6",
   "metadata": {},
   "outputs": [],
   "source": [
    "import numpy as np"
   ]
  },
  {
   "cell_type": "code",
   "execution_count": 7,
   "id": "de6c245a-3683-433c-aced-ee1d3acc8bfc",
   "metadata": {},
   "outputs": [
    {
     "name": "stdout",
     "output_type": "stream",
     "text": [
      "[[50 42 42]\n",
      " [25 96 26]]\n"
     ]
    }
   ],
   "source": [
    "matA = np.array([[3,2,1,5],[9,1,3,0]])\n",
    "matB = np.array([[2,9,0],[1,3,5],[2,4,7],[8,1,5]])\n",
    "print(np.dot(matA,matB))"
   ]
  }
 ],
 "metadata": {
  "kernelspec": {
   "display_name": "Python 3 (ipykernel)",
   "language": "python",
   "name": "python3"
  },
  "language_info": {
   "codemirror_mode": {
    "name": "ipython",
    "version": 3
   },
   "file_extension": ".py",
   "mimetype": "text/x-python",
   "name": "python",
   "nbconvert_exporter": "python",
   "pygments_lexer": "ipython3",
   "version": "3.12.0"
  }
 },
 "nbformat": 4,
 "nbformat_minor": 5
}
