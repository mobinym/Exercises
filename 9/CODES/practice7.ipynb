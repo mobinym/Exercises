{
 "cells": [
  {
   "cell_type": "code",
   "execution_count": 1,
   "id": "6b029f89-ae89-4fd5-a5e8-65adf289381f",
   "metadata": {},
   "outputs": [],
   "source": [
    "import numpy as np "
   ]
  },
  {
   "cell_type": "code",
   "execution_count": 5,
   "id": "0e89b422-9604-4ce4-90a2-ea37ef27a39b",
   "metadata": {},
   "outputs": [
    {
     "name": "stdout",
     "output_type": "stream",
     "text": [
      "[[ 1 -1  1]\n",
      " [ 3  1  2]\n",
      " [-5  2 -1]]\n",
      "----------------------------------------------------------------------------------------------------\n",
      "[ 10  34 -14]\n",
      "----------------------------------------------------------------------------------------------------\n",
      "[ 2.  4. 12.]\n"
     ]
    }
   ],
   "source": [
    "A = np.array([[1,-1,1],[3,1,2],[-5,2,-1]])\n",
    "B = np.array([10,34,-14])\n",
    "x = np.linalg.solve(A,B)\n",
    "print(A)\n",
    "print(100*'-')\n",
    "print(B)\n",
    "print(100*'-')\n",
    "print(x)"
   ]
  }
 ],
 "metadata": {
  "kernelspec": {
   "display_name": "Python 3 (ipykernel)",
   "language": "python",
   "name": "python3"
  },
  "language_info": {
   "codemirror_mode": {
    "name": "ipython",
    "version": 3
   },
   "file_extension": ".py",
   "mimetype": "text/x-python",
   "name": "python",
   "nbconvert_exporter": "python",
   "pygments_lexer": "ipython3",
   "version": "3.12.0"
  }
 },
 "nbformat": 4,
 "nbformat_minor": 5
}
