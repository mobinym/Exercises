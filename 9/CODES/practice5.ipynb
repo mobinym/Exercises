{
 "cells": [
  {
   "cell_type": "code",
   "execution_count": 1,
   "id": "04483499-d5c8-47fc-8dc5-93dec73ae1fd",
   "metadata": {},
   "outputs": [],
   "source": [
    "import numpy as np "
   ]
  },
  {
   "cell_type": "code",
   "execution_count": 4,
   "id": "721f7b11-3641-4e3a-9c4b-1de3d4986f34",
   "metadata": {},
   "outputs": [
    {
     "name": "stdout",
     "output_type": "stream",
     "text": [
      "12.0\n",
      "[6.40312424 7.87400787 6.40312424]\n",
      "[8.36660027 2.23606798 8.30662386]\n"
     ]
    }
   ],
   "source": [
    "A = np.array([5,3,6,0,-2,1,4,7,2]).reshape(3,3)\n",
    "print(np.linalg.norm(A))\n",
    "print(np.linalg.norm(A,axis=0))#col norm\n",
    "print(np.linalg.norm(A,axis=1))#row norm\n"
   ]
  }
 ],
 "metadata": {
  "kernelspec": {
   "display_name": "Python 3 (ipykernel)",
   "language": "python",
   "name": "python3"
  },
  "language_info": {
   "codemirror_mode": {
    "name": "ipython",
    "version": 3
   },
   "file_extension": ".py",
   "mimetype": "text/x-python",
   "name": "python",
   "nbconvert_exporter": "python",
   "pygments_lexer": "ipython3",
   "version": "3.12.0"
  }
 },
 "nbformat": 4,
 "nbformat_minor": 5
}
