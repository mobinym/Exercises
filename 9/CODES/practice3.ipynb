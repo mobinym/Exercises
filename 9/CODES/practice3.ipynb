{
 "cells": [
  {
   "cell_type": "code",
   "execution_count": 1,
   "id": "3c7a4e73-2f66-4c3c-a350-dccd3583a78f",
   "metadata": {},
   "outputs": [],
   "source": [
    "import numpy as np "
   ]
  },
  {
   "cell_type": "code",
   "execution_count": 3,
   "id": "79a4a97a-c67b-46a1-9081-24e46e862f9f",
   "metadata": {},
   "outputs": [
    {
     "name": "stdout",
     "output_type": "stream",
     "text": [
      "[[ 0.5  0.5 -0.5]\n",
      " [-1.5  0.5  0.5]\n",
      " [ 4.5 -2.5 -0.5]]\n"
     ]
    }
   ],
   "source": [
    "matA = np.array([2,3,1,3,4,1,3,7,2]).reshape(3,3)\n",
    "print(np.linalg.inv(matA))"
   ]
  }
 ],
 "metadata": {
  "kernelspec": {
   "display_name": "Python 3 (ipykernel)",
   "language": "python",
   "name": "python3"
  },
  "language_info": {
   "codemirror_mode": {
    "name": "ipython",
    "version": 3
   },
   "file_extension": ".py",
   "mimetype": "text/x-python",
   "name": "python",
   "nbconvert_exporter": "python",
   "pygments_lexer": "ipython3",
   "version": "3.12.0"
  }
 },
 "nbformat": 4,
 "nbformat_minor": 5
}
